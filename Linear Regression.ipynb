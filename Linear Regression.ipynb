{
 "cells": [
  {
   "cell_type": "code",
   "execution_count": 173,
   "id": "038b1c99-8b48-43dd-8855-85b6565075b1",
   "metadata": {},
   "outputs": [],
   "source": [
    "import pandas as pd \n",
    "import numpy as np \n",
    "import seaborn as sns\n",
    "import matplotlib.pyplot as plt\n",
    "import datetime as dt \n",
    "import re \n",
    "\n",
    "import scipy.stats as stats  \n",
    "\n",
    "%matplotlib inline \n",
    "\n",
    "sns.set(style = \"ticks\")\n",
    "\n",
    "from dateutil.relativedelta import relativedelta\n",
    "import statsmodels.formula.api as smf\n",
    "from sklearn.model_selection import train_test_split\n",
    "from sklearn.linear_model import LinearRegression\n",
    "from sklearn.metrics import mean_absolute_error, mean_squared_error, r2_score"
   ]
  },
  {
   "cell_type": "code",
   "execution_count": 174,
   "id": "e2531af4-9a8a-457c-bde2-1d015af71ed0",
   "metadata": {},
   "outputs": [],
   "source": [
    "df = pd.read_excel('ads_data.xlsx')"
   ]
  },
  {
   "cell_type": "code",
   "execution_count": 175,
   "id": "00dc8685-ecfe-486e-91cd-735e03226a6a",
   "metadata": {},
   "outputs": [],
   "source": [
    "df1 = df.copy()"
   ]
  },
  {
   "cell_type": "markdown",
   "id": "ee59e760-5bb4-4b84-bc49-2542e6fd77b9",
   "metadata": {},
   "source": [
    "# ***Simple Linear Regression***"
   ]
  },
  {
   "cell_type": "code",
   "execution_count": 176,
   "id": "5e63f0a8-0c51-4b22-8542-c07444483ad5",
   "metadata": {},
   "outputs": [],
   "source": [
    "df1['Total_Marketing_spend'] = df1['TV'] + df1['Radio'] + df1['Newspaper']"
   ]
  },
  {
   "cell_type": "code",
   "execution_count": 177,
   "id": "2e05f12f-65a2-40c5-98d5-15d031d9282d",
   "metadata": {},
   "outputs": [
    {
     "data": {
      "text/html": [
       "<div>\n",
       "<style scoped>\n",
       "    .dataframe tbody tr th:only-of-type {\n",
       "        vertical-align: middle;\n",
       "    }\n",
       "\n",
       "    .dataframe tbody tr th {\n",
       "        vertical-align: top;\n",
       "    }\n",
       "\n",
       "    .dataframe thead th {\n",
       "        text-align: right;\n",
       "    }\n",
       "</style>\n",
       "<table border=\"1\" class=\"dataframe\">\n",
       "  <thead>\n",
       "    <tr style=\"text-align: right;\">\n",
       "      <th></th>\n",
       "      <th>S_no</th>\n",
       "      <th>TV</th>\n",
       "      <th>Radio</th>\n",
       "      <th>Newspaper</th>\n",
       "      <th>Sales</th>\n",
       "      <th>Total_Marketing_spend</th>\n",
       "    </tr>\n",
       "  </thead>\n",
       "  <tbody>\n",
       "    <tr>\n",
       "      <th>0</th>\n",
       "      <td>1</td>\n",
       "      <td>230.1</td>\n",
       "      <td>37.8</td>\n",
       "      <td>69.2</td>\n",
       "      <td>22.1</td>\n",
       "      <td>337.1</td>\n",
       "    </tr>\n",
       "    <tr>\n",
       "      <th>1</th>\n",
       "      <td>2</td>\n",
       "      <td>44.5</td>\n",
       "      <td>39.3</td>\n",
       "      <td>45.1</td>\n",
       "      <td>10.4</td>\n",
       "      <td>128.9</td>\n",
       "    </tr>\n",
       "  </tbody>\n",
       "</table>\n",
       "</div>"
      ],
      "text/plain": [
       "   S_no     TV  Radio  Newspaper  Sales  Total_Marketing_spend\n",
       "0     1  230.1   37.8       69.2   22.1                  337.1\n",
       "1     2   44.5   39.3       45.1   10.4                  128.9"
      ]
     },
     "execution_count": 177,
     "metadata": {},
     "output_type": "execute_result"
    }
   ],
   "source": [
    "df1.head(2)"
   ]
  },
  {
   "cell_type": "code",
   "execution_count": 178,
   "id": "afc5f5f9-9403-434c-9e13-5c25a5bc33a3",
   "metadata": {},
   "outputs": [],
   "source": [
    "df1 = df1.loc[ : , ['Total_Marketing_spend', 'Sales']]"
   ]
  },
  {
   "cell_type": "code",
   "execution_count": 179,
   "id": "40254b90-ba60-4f84-8337-095c082c7933",
   "metadata": {},
   "outputs": [
    {
     "data": {
      "text/html": [
       "<div>\n",
       "<style scoped>\n",
       "    .dataframe tbody tr th:only-of-type {\n",
       "        vertical-align: middle;\n",
       "    }\n",
       "\n",
       "    .dataframe tbody tr th {\n",
       "        vertical-align: top;\n",
       "    }\n",
       "\n",
       "    .dataframe thead th {\n",
       "        text-align: right;\n",
       "    }\n",
       "</style>\n",
       "<table border=\"1\" class=\"dataframe\">\n",
       "  <thead>\n",
       "    <tr style=\"text-align: right;\">\n",
       "      <th></th>\n",
       "      <th>Total_Marketing_spend</th>\n",
       "      <th>Sales</th>\n",
       "    </tr>\n",
       "  </thead>\n",
       "  <tbody>\n",
       "    <tr>\n",
       "      <th>0</th>\n",
       "      <td>337.1</td>\n",
       "      <td>22.1</td>\n",
       "    </tr>\n",
       "    <tr>\n",
       "      <th>1</th>\n",
       "      <td>128.9</td>\n",
       "      <td>10.4</td>\n",
       "    </tr>\n",
       "  </tbody>\n",
       "</table>\n",
       "</div>"
      ],
      "text/plain": [
       "   Total_Marketing_spend  Sales\n",
       "0                  337.1   22.1\n",
       "1                  128.9   10.4"
      ]
     },
     "execution_count": 179,
     "metadata": {},
     "output_type": "execute_result"
    }
   ],
   "source": [
    "df1.head(2)"
   ]
  },
  {
   "cell_type": "code",
   "execution_count": 180,
   "id": "bd1a5b5a-682b-4866-96aa-36c80ebfec68",
   "metadata": {},
   "outputs": [],
   "source": [
    "# importing module"
   ]
  },
  {
   "cell_type": "code",
   "execution_count": 181,
   "id": "fde2f859-c36f-4f1f-b2c0-9cb1f2e6f95e",
   "metadata": {},
   "outputs": [],
   "source": [
    "ols_model = smf.ols('Sales~Total_Marketing_spend', df1).fit()"
   ]
  },
  {
   "cell_type": "code",
   "execution_count": 182,
   "id": "8f004353-aec2-4331-9e7c-3fa4899e695e",
   "metadata": {},
   "outputs": [
    {
     "name": "stdout",
     "output_type": "stream",
     "text": [
      "                            OLS Regression Results                            \n",
      "==============================================================================\n",
      "Dep. Variable:                  Sales   R-squared:                       0.753\n",
      "Model:                            OLS   Adj. R-squared:                  0.752\n",
      "Method:                 Least Squares   F-statistic:                     603.4\n",
      "Date:                Fri, 15 Nov 2024   Prob (F-statistic):           5.06e-62\n",
      "Time:                        13:27:21   Log-Likelihood:                -473.88\n",
      "No. Observations:                 200   AIC:                             951.8\n",
      "Df Residuals:                     198   BIC:                             958.4\n",
      "Df Model:                           1                                         \n",
      "Covariance Type:            nonrobust                                         \n",
      "=========================================================================================\n",
      "                            coef    std err          t      P>|t|      [0.025      0.975]\n",
      "-----------------------------------------------------------------------------------------\n",
      "Intercept                 4.2430      0.439      9.676      0.000       3.378       5.108\n",
      "Total_Marketing_spend     0.0487      0.002     24.564      0.000       0.045       0.053\n",
      "==============================================================================\n",
      "Omnibus:                        6.851   Durbin-Watson:                   1.967\n",
      "Prob(Omnibus):                  0.033   Jarque-Bera (JB):                6.692\n",
      "Skew:                          -0.373   Prob(JB):                       0.0352\n",
      "Kurtosis:                       3.495   Cond. No.                         528.\n",
      "==============================================================================\n",
      "\n",
      "Notes:\n",
      "[1] Standard Errors assume that the covariance matrix of the errors is correctly specified.\n"
     ]
    }
   ],
   "source": [
    "print(ols_model.summary())"
   ]
  },
  {
   "cell_type": "code",
   "execution_count": 183,
   "id": "751a1aff-fc37-421d-8cf0-a8e1c9522cb3",
   "metadata": {},
   "outputs": [],
   "source": [
    "df1['pred_sales'] = 0.0487*df1['Total_Marketing_spend'] + 4.2430"
   ]
  },
  {
   "cell_type": "code",
   "execution_count": 184,
   "id": "d61458d3-6903-4e00-a5c7-4654bd4f58e4",
   "metadata": {},
   "outputs": [
    {
     "data": {
      "text/html": [
       "<div>\n",
       "<style scoped>\n",
       "    .dataframe tbody tr th:only-of-type {\n",
       "        vertical-align: middle;\n",
       "    }\n",
       "\n",
       "    .dataframe tbody tr th {\n",
       "        vertical-align: top;\n",
       "    }\n",
       "\n",
       "    .dataframe thead th {\n",
       "        text-align: right;\n",
       "    }\n",
       "</style>\n",
       "<table border=\"1\" class=\"dataframe\">\n",
       "  <thead>\n",
       "    <tr style=\"text-align: right;\">\n",
       "      <th></th>\n",
       "      <th>Total_Marketing_spend</th>\n",
       "      <th>Sales</th>\n",
       "      <th>pred_sales</th>\n",
       "    </tr>\n",
       "  </thead>\n",
       "  <tbody>\n",
       "    <tr>\n",
       "      <th>0</th>\n",
       "      <td>337.1</td>\n",
       "      <td>22.1</td>\n",
       "      <td>20.65977</td>\n",
       "    </tr>\n",
       "    <tr>\n",
       "      <th>1</th>\n",
       "      <td>128.9</td>\n",
       "      <td>10.4</td>\n",
       "      <td>10.52043</td>\n",
       "    </tr>\n",
       "  </tbody>\n",
       "</table>\n",
       "</div>"
      ],
      "text/plain": [
       "   Total_Marketing_spend  Sales  pred_sales\n",
       "0                  337.1   22.1    20.65977\n",
       "1                  128.9   10.4    10.52043"
      ]
     },
     "execution_count": 184,
     "metadata": {},
     "output_type": "execute_result"
    }
   ],
   "source": [
    "df1.head(2)"
   ]
  },
  {
   "cell_type": "code",
   "execution_count": 185,
   "id": "a30fb84c-349a-445d-b7c2-693655f4e942",
   "metadata": {},
   "outputs": [],
   "source": [
    "df1['absolute_error'] = np.abs(df1['Sales'] - df1['pred_sales'])"
   ]
  },
  {
   "cell_type": "code",
   "execution_count": 186,
   "id": "d537c219-179a-4052-809a-6266e6b249fe",
   "metadata": {},
   "outputs": [
    {
     "data": {
      "text/html": [
       "<div>\n",
       "<style scoped>\n",
       "    .dataframe tbody tr th:only-of-type {\n",
       "        vertical-align: middle;\n",
       "    }\n",
       "\n",
       "    .dataframe tbody tr th {\n",
       "        vertical-align: top;\n",
       "    }\n",
       "\n",
       "    .dataframe thead th {\n",
       "        text-align: right;\n",
       "    }\n",
       "</style>\n",
       "<table border=\"1\" class=\"dataframe\">\n",
       "  <thead>\n",
       "    <tr style=\"text-align: right;\">\n",
       "      <th></th>\n",
       "      <th>Total_Marketing_spend</th>\n",
       "      <th>Sales</th>\n",
       "      <th>pred_sales</th>\n",
       "      <th>absolute_error</th>\n",
       "    </tr>\n",
       "  </thead>\n",
       "  <tbody>\n",
       "    <tr>\n",
       "      <th>0</th>\n",
       "      <td>337.1</td>\n",
       "      <td>22.1</td>\n",
       "      <td>20.65977</td>\n",
       "      <td>1.44023</td>\n",
       "    </tr>\n",
       "    <tr>\n",
       "      <th>1</th>\n",
       "      <td>128.9</td>\n",
       "      <td>10.4</td>\n",
       "      <td>10.52043</td>\n",
       "      <td>0.12043</td>\n",
       "    </tr>\n",
       "  </tbody>\n",
       "</table>\n",
       "</div>"
      ],
      "text/plain": [
       "   Total_Marketing_spend  Sales  pred_sales  absolute_error\n",
       "0                  337.1   22.1    20.65977         1.44023\n",
       "1                  128.9   10.4    10.52043         0.12043"
      ]
     },
     "execution_count": 186,
     "metadata": {},
     "output_type": "execute_result"
    }
   ],
   "source": [
    "df1.head(2)"
   ]
  },
  {
   "cell_type": "code",
   "execution_count": 187,
   "id": "1c848f5d-f1c4-4c91-a2c5-4e6ab123aa27",
   "metadata": {},
   "outputs": [],
   "source": [
    "df1['absolute_percent_error'] = (df1['absolute_error']/df1['Sales'])*100"
   ]
  },
  {
   "cell_type": "code",
   "execution_count": 188,
   "id": "fd4ce986-532b-4cb2-8ed4-2c87149eedce",
   "metadata": {},
   "outputs": [
    {
     "data": {
      "text/html": [
       "<div>\n",
       "<style scoped>\n",
       "    .dataframe tbody tr th:only-of-type {\n",
       "        vertical-align: middle;\n",
       "    }\n",
       "\n",
       "    .dataframe tbody tr th {\n",
       "        vertical-align: top;\n",
       "    }\n",
       "\n",
       "    .dataframe thead th {\n",
       "        text-align: right;\n",
       "    }\n",
       "</style>\n",
       "<table border=\"1\" class=\"dataframe\">\n",
       "  <thead>\n",
       "    <tr style=\"text-align: right;\">\n",
       "      <th></th>\n",
       "      <th>Total_Marketing_spend</th>\n",
       "      <th>Sales</th>\n",
       "      <th>pred_sales</th>\n",
       "      <th>absolute_error</th>\n",
       "      <th>absolute_percent_error</th>\n",
       "    </tr>\n",
       "  </thead>\n",
       "  <tbody>\n",
       "    <tr>\n",
       "      <th>0</th>\n",
       "      <td>337.1</td>\n",
       "      <td>22.1</td>\n",
       "      <td>20.65977</td>\n",
       "      <td>1.44023</td>\n",
       "      <td>6.516878</td>\n",
       "    </tr>\n",
       "    <tr>\n",
       "      <th>1</th>\n",
       "      <td>128.9</td>\n",
       "      <td>10.4</td>\n",
       "      <td>10.52043</td>\n",
       "      <td>0.12043</td>\n",
       "      <td>1.157981</td>\n",
       "    </tr>\n",
       "  </tbody>\n",
       "</table>\n",
       "</div>"
      ],
      "text/plain": [
       "   Total_Marketing_spend  Sales  pred_sales  absolute_error  \\\n",
       "0                  337.1   22.1    20.65977         1.44023   \n",
       "1                  128.9   10.4    10.52043         0.12043   \n",
       "\n",
       "   absolute_percent_error  \n",
       "0                6.516878  \n",
       "1                1.157981  "
      ]
     },
     "execution_count": 188,
     "metadata": {},
     "output_type": "execute_result"
    }
   ],
   "source": [
    "df1.head(2)"
   ]
  },
  {
   "cell_type": "code",
   "execution_count": 189,
   "id": "56b34a1f-429a-441e-9f36-1e294b79a1f3",
   "metadata": {},
   "outputs": [],
   "source": [
    "MAPE = np.mean(df1['absolute_percent_error']).round(2)"
   ]
  },
  {
   "cell_type": "code",
   "execution_count": 190,
   "id": "8e4734ca-e6d8-4cc4-b872-7e7ccd7cedc6",
   "metadata": {},
   "outputs": [
    {
     "data": {
      "text/plain": [
       "15.87"
      ]
     },
     "execution_count": 190,
     "metadata": {},
     "output_type": "execute_result"
    }
   ],
   "source": [
    "MAPE "
   ]
  },
  {
   "cell_type": "code",
   "execution_count": 191,
   "id": "a7573430-1e05-444b-a78c-5c0959bbab08",
   "metadata": {},
   "outputs": [],
   "source": [
    "x=df1.drop(\"absolute_percent_error\",axis=1)\n",
    "y=df1.absolute_percent_error"
   ]
  },
  {
   "cell_type": "code",
   "execution_count": 192,
   "id": "68ae1537-f08c-4613-97f2-240384c406ca",
   "metadata": {},
   "outputs": [],
   "source": [
    "x_train,x_test,y_train,y_test=train_test_split(x,y,test_size=0.2,random_state=51)"
   ]
  },
  {
   "cell_type": "code",
   "execution_count": 193,
   "id": "2e8b69f9-3581-4080-bc50-cf54e7913993",
   "metadata": {},
   "outputs": [],
   "source": [
    "linear_reg = LinearRegression()"
   ]
  },
  {
   "cell_type": "code",
   "execution_count": 194,
   "id": "68531922-bcd6-4cb6-b7c7-e8f36f56d92f",
   "metadata": {},
   "outputs": [
    {
     "data": {
      "text/html": [
       "<style>#sk-container-id-6 {color: black;background-color: white;}#sk-container-id-6 pre{padding: 0;}#sk-container-id-6 div.sk-toggleable {background-color: white;}#sk-container-id-6 label.sk-toggleable__label {cursor: pointer;display: block;width: 100%;margin-bottom: 0;padding: 0.3em;box-sizing: border-box;text-align: center;}#sk-container-id-6 label.sk-toggleable__label-arrow:before {content: \"▸\";float: left;margin-right: 0.25em;color: #696969;}#sk-container-id-6 label.sk-toggleable__label-arrow:hover:before {color: black;}#sk-container-id-6 div.sk-estimator:hover label.sk-toggleable__label-arrow:before {color: black;}#sk-container-id-6 div.sk-toggleable__content {max-height: 0;max-width: 0;overflow: hidden;text-align: left;background-color: #f0f8ff;}#sk-container-id-6 div.sk-toggleable__content pre {margin: 0.2em;color: black;border-radius: 0.25em;background-color: #f0f8ff;}#sk-container-id-6 input.sk-toggleable__control:checked~div.sk-toggleable__content {max-height: 200px;max-width: 100%;overflow: auto;}#sk-container-id-6 input.sk-toggleable__control:checked~label.sk-toggleable__label-arrow:before {content: \"▾\";}#sk-container-id-6 div.sk-estimator input.sk-toggleable__control:checked~label.sk-toggleable__label {background-color: #d4ebff;}#sk-container-id-6 div.sk-label input.sk-toggleable__control:checked~label.sk-toggleable__label {background-color: #d4ebff;}#sk-container-id-6 input.sk-hidden--visually {border: 0;clip: rect(1px 1px 1px 1px);clip: rect(1px, 1px, 1px, 1px);height: 1px;margin: -1px;overflow: hidden;padding: 0;position: absolute;width: 1px;}#sk-container-id-6 div.sk-estimator {font-family: monospace;background-color: #f0f8ff;border: 1px dotted black;border-radius: 0.25em;box-sizing: border-box;margin-bottom: 0.5em;}#sk-container-id-6 div.sk-estimator:hover {background-color: #d4ebff;}#sk-container-id-6 div.sk-parallel-item::after {content: \"\";width: 100%;border-bottom: 1px solid gray;flex-grow: 1;}#sk-container-id-6 div.sk-label:hover label.sk-toggleable__label {background-color: #d4ebff;}#sk-container-id-6 div.sk-serial::before {content: \"\";position: absolute;border-left: 1px solid gray;box-sizing: border-box;top: 0;bottom: 0;left: 50%;z-index: 0;}#sk-container-id-6 div.sk-serial {display: flex;flex-direction: column;align-items: center;background-color: white;padding-right: 0.2em;padding-left: 0.2em;position: relative;}#sk-container-id-6 div.sk-item {position: relative;z-index: 1;}#sk-container-id-6 div.sk-parallel {display: flex;align-items: stretch;justify-content: center;background-color: white;position: relative;}#sk-container-id-6 div.sk-item::before, #sk-container-id-6 div.sk-parallel-item::before {content: \"\";position: absolute;border-left: 1px solid gray;box-sizing: border-box;top: 0;bottom: 0;left: 50%;z-index: -1;}#sk-container-id-6 div.sk-parallel-item {display: flex;flex-direction: column;z-index: 1;position: relative;background-color: white;}#sk-container-id-6 div.sk-parallel-item:first-child::after {align-self: flex-end;width: 50%;}#sk-container-id-6 div.sk-parallel-item:last-child::after {align-self: flex-start;width: 50%;}#sk-container-id-6 div.sk-parallel-item:only-child::after {width: 0;}#sk-container-id-6 div.sk-dashed-wrapped {border: 1px dashed gray;margin: 0 0.4em 0.5em 0.4em;box-sizing: border-box;padding-bottom: 0.4em;background-color: white;}#sk-container-id-6 div.sk-label label {font-family: monospace;font-weight: bold;display: inline-block;line-height: 1.2em;}#sk-container-id-6 div.sk-label-container {text-align: center;}#sk-container-id-6 div.sk-container {/* jupyter's `normalize.less` sets `[hidden] { display: none; }` but bootstrap.min.css set `[hidden] { display: none !important; }` so we also need the `!important` here to be able to override the default hidden behavior on the sphinx rendered scikit-learn.org. See: https://github.com/scikit-learn/scikit-learn/issues/21755 */display: inline-block !important;position: relative;}#sk-container-id-6 div.sk-text-repr-fallback {display: none;}</style><div id=\"sk-container-id-6\" class=\"sk-top-container\"><div class=\"sk-text-repr-fallback\"><pre>LinearRegression()</pre><b>In a Jupyter environment, please rerun this cell to show the HTML representation or trust the notebook. <br />On GitHub, the HTML representation is unable to render, please try loading this page with nbviewer.org.</b></div><div class=\"sk-container\" hidden><div class=\"sk-item\"><div class=\"sk-estimator sk-toggleable\"><input class=\"sk-toggleable__control sk-hidden--visually\" id=\"sk-estimator-id-6\" type=\"checkbox\" checked><label for=\"sk-estimator-id-6\" class=\"sk-toggleable__label sk-toggleable__label-arrow\">LinearRegression</label><div class=\"sk-toggleable__content\"><pre>LinearRegression()</pre></div></div></div></div></div>"
      ],
      "text/plain": [
       "LinearRegression()"
      ]
     },
     "execution_count": 194,
     "metadata": {},
     "output_type": "execute_result"
    }
   ],
   "source": [
    "linear_reg.fit(x_train,y_train)"
   ]
  },
  {
   "cell_type": "code",
   "execution_count": 195,
   "id": "abe2b573-f2b2-44fe-bbe5-a3caef1116e3",
   "metadata": {},
   "outputs": [
    {
     "data": {
      "text/plain": [
       "array([ 3.80562487e-02, -2.62771951e+00,  1.85333931e-03,  1.02145037e+01])"
      ]
     },
     "execution_count": 195,
     "metadata": {},
     "output_type": "execute_result"
    }
   ],
   "source": [
    "linear_reg.coef_"
   ]
  },
  {
   "cell_type": "code",
   "execution_count": 196,
   "id": "c017a224-2ae1-4542-bfdf-7bda9a6cc989",
   "metadata": {},
   "outputs": [
    {
     "data": {
      "text/plain": [
       "25.567371246769724"
      ]
     },
     "execution_count": 196,
     "metadata": {},
     "output_type": "execute_result"
    }
   ],
   "source": [
    "linear_reg.intercept_"
   ]
  },
  {
   "cell_type": "code",
   "execution_count": 197,
   "id": "f51a5ed2-8a92-42b0-b982-946338f59c6d",
   "metadata": {},
   "outputs": [],
   "source": [
    "pred=linear_reg.predict(x_test)"
   ]
  },
  {
   "cell_type": "code",
   "execution_count": 198,
   "id": "87c62d28-e618-4de0-9966-38fe7bdc598f",
   "metadata": {},
   "outputs": [
    {
     "name": "stdout",
     "output_type": "stream",
     "text": [
      "Mean Absolute Error (MAE): 6.048367941804449\n",
      "Mean Squared Error (MSE): 61.48574830824748\n",
      "Root Mean Squared Error (RMSE): 7.841284863352911\n",
      "R-squared (R²): 0.6457730446716214\n"
     ]
    }
   ],
   "source": [
    "mae = mean_absolute_error(y_test, pred)\n",
    "mse = mean_squared_error(y_test, pred)\n",
    "rmse = np.sqrt(mse)\n",
    "r2 = r2_score(y_test, pred)\n",
    "\n",
    "print(\"Mean Absolute Error (MAE):\", mae)\n",
    "print(\"Mean Squared Error (MSE):\", mse)\n",
    "print(\"Root Mean Squared Error (RMSE):\", rmse)\n",
    "print(\"R-squared (R²):\", r2)"
   ]
  },
  {
   "cell_type": "code",
   "execution_count": null,
   "id": "8c476490-1797-449b-920d-428d41405bf1",
   "metadata": {},
   "outputs": [],
   "source": []
  },
  {
   "cell_type": "code",
   "execution_count": null,
   "id": "243ca37e-8829-4712-91fc-ecc0041c5e78",
   "metadata": {},
   "outputs": [],
   "source": []
  },
  {
   "cell_type": "markdown",
   "id": "e87b77b0-06ad-4ead-9ec0-21c4d1d6d377",
   "metadata": {},
   "source": [
    "##  ***Multivariate Regression***"
   ]
  },
  {
   "cell_type": "code",
   "execution_count": 199,
   "id": "acf1eaab-4709-4517-8c93-664fb0ae9a02",
   "metadata": {},
   "outputs": [],
   "source": [
    "df = df.drop (columns = 'S_no')"
   ]
  },
  {
   "cell_type": "code",
   "execution_count": 200,
   "id": "902c3d3f-be82-4431-b94d-a7c2cae66fc3",
   "metadata": {},
   "outputs": [
    {
     "data": {
      "text/html": [
       "<div>\n",
       "<style scoped>\n",
       "    .dataframe tbody tr th:only-of-type {\n",
       "        vertical-align: middle;\n",
       "    }\n",
       "\n",
       "    .dataframe tbody tr th {\n",
       "        vertical-align: top;\n",
       "    }\n",
       "\n",
       "    .dataframe thead th {\n",
       "        text-align: right;\n",
       "    }\n",
       "</style>\n",
       "<table border=\"1\" class=\"dataframe\">\n",
       "  <thead>\n",
       "    <tr style=\"text-align: right;\">\n",
       "      <th></th>\n",
       "      <th>TV</th>\n",
       "      <th>Radio</th>\n",
       "      <th>Newspaper</th>\n",
       "      <th>Sales</th>\n",
       "    </tr>\n",
       "  </thead>\n",
       "  <tbody>\n",
       "    <tr>\n",
       "      <th>0</th>\n",
       "      <td>230.1</td>\n",
       "      <td>37.8</td>\n",
       "      <td>69.2</td>\n",
       "      <td>22.1</td>\n",
       "    </tr>\n",
       "    <tr>\n",
       "      <th>1</th>\n",
       "      <td>44.5</td>\n",
       "      <td>39.3</td>\n",
       "      <td>45.1</td>\n",
       "      <td>10.4</td>\n",
       "    </tr>\n",
       "    <tr>\n",
       "      <th>2</th>\n",
       "      <td>17.2</td>\n",
       "      <td>45.9</td>\n",
       "      <td>69.3</td>\n",
       "      <td>9.3</td>\n",
       "    </tr>\n",
       "    <tr>\n",
       "      <th>3</th>\n",
       "      <td>151.5</td>\n",
       "      <td>41.3</td>\n",
       "      <td>58.5</td>\n",
       "      <td>18.5</td>\n",
       "    </tr>\n",
       "    <tr>\n",
       "      <th>4</th>\n",
       "      <td>180.8</td>\n",
       "      <td>10.8</td>\n",
       "      <td>58.4</td>\n",
       "      <td>12.9</td>\n",
       "    </tr>\n",
       "  </tbody>\n",
       "</table>\n",
       "</div>"
      ],
      "text/plain": [
       "      TV  Radio  Newspaper  Sales\n",
       "0  230.1   37.8       69.2   22.1\n",
       "1   44.5   39.3       45.1   10.4\n",
       "2   17.2   45.9       69.3    9.3\n",
       "3  151.5   41.3       58.5   18.5\n",
       "4  180.8   10.8       58.4   12.9"
      ]
     },
     "execution_count": 200,
     "metadata": {},
     "output_type": "execute_result"
    }
   ],
   "source": [
    "df.head()"
   ]
  },
  {
   "cell_type": "code",
   "execution_count": 201,
   "id": "3906195f-6c2c-4c7a-a8f4-d6e9db6e3d93",
   "metadata": {},
   "outputs": [],
   "source": [
    "ols_model2 = smf.ols('Sales ~ TV + Radio', df).fit()"
   ]
  },
  {
   "cell_type": "code",
   "execution_count": 202,
   "id": "2eea57da-73b8-45a2-80ca-727b06d34f62",
   "metadata": {},
   "outputs": [
    {
     "name": "stdout",
     "output_type": "stream",
     "text": [
      "                            OLS Regression Results                            \n",
      "==============================================================================\n",
      "Dep. Variable:                  Sales   R-squared:                       0.897\n",
      "Model:                            OLS   Adj. R-squared:                  0.896\n",
      "Method:                 Least Squares   F-statistic:                     859.6\n",
      "Date:                Fri, 15 Nov 2024   Prob (F-statistic):           4.83e-98\n",
      "Time:                        13:27:21   Log-Likelihood:                -386.20\n",
      "No. Observations:                 200   AIC:                             778.4\n",
      "Df Residuals:                     197   BIC:                             788.3\n",
      "Df Model:                           2                                         \n",
      "Covariance Type:            nonrobust                                         \n",
      "==============================================================================\n",
      "                 coef    std err          t      P>|t|      [0.025      0.975]\n",
      "------------------------------------------------------------------------------\n",
      "Intercept      2.9211      0.294      9.919      0.000       2.340       3.502\n",
      "TV             0.0458      0.001     32.909      0.000       0.043       0.048\n",
      "Radio          0.1880      0.008     23.382      0.000       0.172       0.204\n",
      "==============================================================================\n",
      "Omnibus:                       60.022   Durbin-Watson:                   2.081\n",
      "Prob(Omnibus):                  0.000   Jarque-Bera (JB):              148.679\n",
      "Skew:                          -1.323   Prob(JB):                     5.19e-33\n",
      "Kurtosis:                       6.292   Cond. No.                         425.\n",
      "==============================================================================\n",
      "\n",
      "Notes:\n",
      "[1] Standard Errors assume that the covariance matrix of the errors is correctly specified.\n"
     ]
    }
   ],
   "source": [
    "print(ols_model2.summary())"
   ]
  },
  {
   "cell_type": "code",
   "execution_count": 203,
   "id": "e93e4d49-8f7b-46f7-9fb3-5496a0a6e0ce",
   "metadata": {},
   "outputs": [],
   "source": [
    "df['Pred_value'] = 0.0458*df['TV'] + 0.1880* df['Radio'] - 0.0010* df['Newspaper'] + 2.9389"
   ]
  },
  {
   "cell_type": "code",
   "execution_count": 204,
   "id": "14027f2d-b281-4f18-8749-ebe2f25ec144",
   "metadata": {},
   "outputs": [
    {
     "data": {
      "text/html": [
       "<div>\n",
       "<style scoped>\n",
       "    .dataframe tbody tr th:only-of-type {\n",
       "        vertical-align: middle;\n",
       "    }\n",
       "\n",
       "    .dataframe tbody tr th {\n",
       "        vertical-align: top;\n",
       "    }\n",
       "\n",
       "    .dataframe thead th {\n",
       "        text-align: right;\n",
       "    }\n",
       "</style>\n",
       "<table border=\"1\" class=\"dataframe\">\n",
       "  <thead>\n",
       "    <tr style=\"text-align: right;\">\n",
       "      <th></th>\n",
       "      <th>TV</th>\n",
       "      <th>Radio</th>\n",
       "      <th>Newspaper</th>\n",
       "      <th>Sales</th>\n",
       "      <th>Pred_value</th>\n",
       "    </tr>\n",
       "  </thead>\n",
       "  <tbody>\n",
       "    <tr>\n",
       "      <th>0</th>\n",
       "      <td>230.1</td>\n",
       "      <td>37.8</td>\n",
       "      <td>69.2</td>\n",
       "      <td>22.1</td>\n",
       "      <td>20.51468</td>\n",
       "    </tr>\n",
       "    <tr>\n",
       "      <th>1</th>\n",
       "      <td>44.5</td>\n",
       "      <td>39.3</td>\n",
       "      <td>45.1</td>\n",
       "      <td>10.4</td>\n",
       "      <td>12.32030</td>\n",
       "    </tr>\n",
       "  </tbody>\n",
       "</table>\n",
       "</div>"
      ],
      "text/plain": [
       "      TV  Radio  Newspaper  Sales  Pred_value\n",
       "0  230.1   37.8       69.2   22.1    20.51468\n",
       "1   44.5   39.3       45.1   10.4    12.32030"
      ]
     },
     "execution_count": 204,
     "metadata": {},
     "output_type": "execute_result"
    }
   ],
   "source": [
    "df.head(2)"
   ]
  },
  {
   "cell_type": "code",
   "execution_count": 205,
   "id": "9e8baf5b-d8e6-4c06-aa46-fa313f8ad377",
   "metadata": {},
   "outputs": [],
   "source": [
    "df['Error'] = df['Sales'] - df['Pred_value']"
   ]
  },
  {
   "cell_type": "code",
   "execution_count": 206,
   "id": "72b43b67-cbea-4fb6-86c9-0683e87c29df",
   "metadata": {},
   "outputs": [],
   "source": [
    "df['Percent_error'] = round((df['Error']/df['Sales'])*100,2)"
   ]
  },
  {
   "cell_type": "code",
   "execution_count": 207,
   "id": "d1653e68-d4ca-4291-8562-37f34c976d56",
   "metadata": {},
   "outputs": [],
   "source": [
    "df['Absolute_percent_error'] = np.abs(df['Percent_error'])"
   ]
  },
  {
   "cell_type": "code",
   "execution_count": 208,
   "id": "97274f7a-f395-49a4-beee-40e17489e7c3",
   "metadata": {},
   "outputs": [],
   "source": [
    "MAPE = np.mean(df['Absolute_percent_error']).round(2)"
   ]
  },
  {
   "cell_type": "code",
   "execution_count": 209,
   "id": "730069bd-692b-49aa-a5ef-baeaa8e62886",
   "metadata": {},
   "outputs": [
    {
     "data": {
      "text/plain": [
       "13.87"
      ]
     },
     "execution_count": 209,
     "metadata": {},
     "output_type": "execute_result"
    }
   ],
   "source": [
    "MAPE"
   ]
  },
  {
   "cell_type": "code",
   "execution_count": 210,
   "id": "39b79ab8-4176-4358-be47-e0749ae5d532",
   "metadata": {},
   "outputs": [],
   "source": [
    "mean_value = round(np.mean(df['Sales']),3)"
   ]
  },
  {
   "cell_type": "code",
   "execution_count": 211,
   "id": "39663d57-426a-4f4d-9839-38ac6491ee1e",
   "metadata": {},
   "outputs": [
    {
     "data": {
      "text/plain": [
       "14.022"
      ]
     },
     "execution_count": 211,
     "metadata": {},
     "output_type": "execute_result"
    }
   ],
   "source": [
    "mean_value"
   ]
  },
  {
   "cell_type": "code",
   "execution_count": 212,
   "id": "790c6fe4-d600-426c-9b37-95bc0bc6bc6d",
   "metadata": {},
   "outputs": [],
   "source": [
    "df['basic_deviation'] = df['Sales']-mean_value"
   ]
  },
  {
   "cell_type": "code",
   "execution_count": 213,
   "id": "218b002c-afed-4a4b-8e37-45b0ff98a5d8",
   "metadata": {},
   "outputs": [],
   "source": [
    "df['abs_percent_basic_dev'] = np.abs(round((df['basic_deviation']/df['Sales'])*100,2))"
   ]
  },
  {
   "cell_type": "code",
   "execution_count": 214,
   "id": "5ad810c2-f23c-4e73-bb03-0bd16b9931e4",
   "metadata": {},
   "outputs": [],
   "source": [
    "MAPE_basic = round(np.mean(df['abs_percent_basic_dev']),2)"
   ]
  },
  {
   "cell_type": "code",
   "execution_count": 215,
   "id": "29d43537-8eff-4956-8b45-2cd9f823ff45",
   "metadata": {},
   "outputs": [
    {
     "data": {
      "text/plain": [
       "40.06"
      ]
     },
     "execution_count": 215,
     "metadata": {},
     "output_type": "execute_result"
    }
   ],
   "source": [
    "MAPE_basic"
   ]
  },
  {
   "cell_type": "code",
   "execution_count": 216,
   "id": "126e1f4e-bb1a-40f1-a207-0734c11a9dd6",
   "metadata": {},
   "outputs": [
    {
     "data": {
      "text/html": [
       "<div>\n",
       "<style scoped>\n",
       "    .dataframe tbody tr th:only-of-type {\n",
       "        vertical-align: middle;\n",
       "    }\n",
       "\n",
       "    .dataframe tbody tr th {\n",
       "        vertical-align: top;\n",
       "    }\n",
       "\n",
       "    .dataframe thead th {\n",
       "        text-align: right;\n",
       "    }\n",
       "</style>\n",
       "<table border=\"1\" class=\"dataframe\">\n",
       "  <thead>\n",
       "    <tr style=\"text-align: right;\">\n",
       "      <th></th>\n",
       "      <th>TV</th>\n",
       "      <th>Radio</th>\n",
       "      <th>Newspaper</th>\n",
       "      <th>Sales</th>\n",
       "      <th>Pred_value</th>\n",
       "      <th>Error</th>\n",
       "      <th>Percent_error</th>\n",
       "      <th>Absolute_percent_error</th>\n",
       "      <th>basic_deviation</th>\n",
       "      <th>abs_percent_basic_dev</th>\n",
       "    </tr>\n",
       "  </thead>\n",
       "  <tbody>\n",
       "    <tr>\n",
       "      <th>0</th>\n",
       "      <td>230.1</td>\n",
       "      <td>37.8</td>\n",
       "      <td>69.2</td>\n",
       "      <td>22.1</td>\n",
       "      <td>20.51468</td>\n",
       "      <td>1.58532</td>\n",
       "      <td>7.17</td>\n",
       "      <td>7.17</td>\n",
       "      <td>8.078</td>\n",
       "      <td>36.55</td>\n",
       "    </tr>\n",
       "    <tr>\n",
       "      <th>1</th>\n",
       "      <td>44.5</td>\n",
       "      <td>39.3</td>\n",
       "      <td>45.1</td>\n",
       "      <td>10.4</td>\n",
       "      <td>12.32030</td>\n",
       "      <td>-1.92030</td>\n",
       "      <td>-18.46</td>\n",
       "      <td>18.46</td>\n",
       "      <td>-3.622</td>\n",
       "      <td>34.83</td>\n",
       "    </tr>\n",
       "    <tr>\n",
       "      <th>2</th>\n",
       "      <td>17.2</td>\n",
       "      <td>45.9</td>\n",
       "      <td>69.3</td>\n",
       "      <td>9.3</td>\n",
       "      <td>12.28656</td>\n",
       "      <td>-2.98656</td>\n",
       "      <td>-32.11</td>\n",
       "      <td>32.11</td>\n",
       "      <td>-4.722</td>\n",
       "      <td>50.77</td>\n",
       "    </tr>\n",
       "    <tr>\n",
       "      <th>3</th>\n",
       "      <td>151.5</td>\n",
       "      <td>41.3</td>\n",
       "      <td>58.5</td>\n",
       "      <td>18.5</td>\n",
       "      <td>17.58350</td>\n",
       "      <td>0.91650</td>\n",
       "      <td>4.95</td>\n",
       "      <td>4.95</td>\n",
       "      <td>4.478</td>\n",
       "      <td>24.21</td>\n",
       "    </tr>\n",
       "    <tr>\n",
       "      <th>4</th>\n",
       "      <td>180.8</td>\n",
       "      <td>10.8</td>\n",
       "      <td>58.4</td>\n",
       "      <td>12.9</td>\n",
       "      <td>13.19154</td>\n",
       "      <td>-0.29154</td>\n",
       "      <td>-2.26</td>\n",
       "      <td>2.26</td>\n",
       "      <td>-1.122</td>\n",
       "      <td>8.70</td>\n",
       "    </tr>\n",
       "  </tbody>\n",
       "</table>\n",
       "</div>"
      ],
      "text/plain": [
       "      TV  Radio  Newspaper  Sales  Pred_value    Error  Percent_error  \\\n",
       "0  230.1   37.8       69.2   22.1    20.51468  1.58532           7.17   \n",
       "1   44.5   39.3       45.1   10.4    12.32030 -1.92030         -18.46   \n",
       "2   17.2   45.9       69.3    9.3    12.28656 -2.98656         -32.11   \n",
       "3  151.5   41.3       58.5   18.5    17.58350  0.91650           4.95   \n",
       "4  180.8   10.8       58.4   12.9    13.19154 -0.29154          -2.26   \n",
       "\n",
       "   Absolute_percent_error  basic_deviation  abs_percent_basic_dev  \n",
       "0                    7.17            8.078                  36.55  \n",
       "1                   18.46           -3.622                  34.83  \n",
       "2                   32.11           -4.722                  50.77  \n",
       "3                    4.95            4.478                  24.21  \n",
       "4                    2.26           -1.122                   8.70  "
      ]
     },
     "execution_count": 216,
     "metadata": {},
     "output_type": "execute_result"
    }
   ],
   "source": [
    "df.head()"
   ]
  },
  {
   "cell_type": "code",
   "execution_count": null,
   "id": "75b39a71-0916-4819-9a31-362e7ede9f2c",
   "metadata": {},
   "outputs": [],
   "source": []
  },
  {
   "cell_type": "code",
   "execution_count": null,
   "id": "fb02007d-a59a-40bb-96c2-909ddbdbab5b",
   "metadata": {},
   "outputs": [],
   "source": []
  }
 ],
 "metadata": {
  "kernelspec": {
   "display_name": "Python 3 (ipykernel)",
   "language": "python",
   "name": "python3"
  },
  "language_info": {
   "codemirror_mode": {
    "name": "ipython",
    "version": 3
   },
   "file_extension": ".py",
   "mimetype": "text/x-python",
   "name": "python",
   "nbconvert_exporter": "python",
   "pygments_lexer": "ipython3",
   "version": "3.11.7"
  }
 },
 "nbformat": 4,
 "nbformat_minor": 5
}
